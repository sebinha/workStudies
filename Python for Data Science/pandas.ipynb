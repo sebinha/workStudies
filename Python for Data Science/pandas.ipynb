{
 "cells": [
  {
   "cell_type": "code",
   "execution_count": 12,
   "id": "bffddfe8-76c6-4d12-9c84-5ef1d712c6ae",
   "metadata": {},
   "outputs": [],
   "source": [
    "import pandas as pd"
   ]
  },
  {
   "cell_type": "code",
   "execution_count": 13,
   "id": "7cb9f409-b349-4f8d-aae2-2abcbb02a924",
   "metadata": {},
   "outputs": [],
   "source": [
    "csv_path = 'data.csv'"
   ]
  },
  {
   "cell_type": "code",
   "execution_count": 17,
   "id": "2df64de8-67e5-45f1-bfbd-fd97d62083a5",
   "metadata": {},
   "outputs": [],
   "source": [
    "df = pd.read_csv(csv_path, encoding = \"ISO-8859-1\", sep=';')"
   ]
  },
  {
   "cell_type": "code",
   "execution_count": 18,
   "id": "50387434-9fa0-42e0-a782-c4fc9b05bca4",
   "metadata": {},
   "outputs": [
    {
     "data": {
      "text/html": [
       "<div>\n",
       "<style scoped>\n",
       "    .dataframe tbody tr th:only-of-type {\n",
       "        vertical-align: middle;\n",
       "    }\n",
       "\n",
       "    .dataframe tbody tr th {\n",
       "        vertical-align: top;\n",
       "    }\n",
       "\n",
       "    .dataframe thead th {\n",
       "        text-align: right;\n",
       "    }\n",
       "</style>\n",
       "<table border=\"1\" class=\"dataframe\">\n",
       "  <thead>\n",
       "    <tr style=\"text-align: right;\">\n",
       "      <th></th>\n",
       "      <th>id</th>\n",
       "      <th>thinklab</th>\n",
       "      <th>date</th>\n",
       "      <th>country</th>\n",
       "      <th>city</th>\n",
       "      <th>region</th>\n",
       "      <th>likelyhood</th>\n",
       "      <th>text</th>\n",
       "    </tr>\n",
       "  </thead>\n",
       "  <tbody>\n",
       "    <tr>\n",
       "      <th>0</th>\n",
       "      <td>1</td>\n",
       "      <td>Almaden</td>\n",
       "      <td>10/22/2018 04:04 pm</td>\n",
       "      <td>NaN</td>\n",
       "      <td>NaN</td>\n",
       "      <td>NaN</td>\n",
       "      <td>10</td>\n",
       "      <td>Very interesting and insightful experience. Fa...</td>\n",
       "    </tr>\n",
       "    <tr>\n",
       "      <th>1</th>\n",
       "      <td>2</td>\n",
       "      <td>Almaden</td>\n",
       "      <td>10/19/2018 08:53 pm</td>\n",
       "      <td>NaN</td>\n",
       "      <td>NaN</td>\n",
       "      <td>NaN</td>\n",
       "      <td>10</td>\n",
       "      <td>The tour was absolutely fascinating, I think t...</td>\n",
       "    </tr>\n",
       "    <tr>\n",
       "      <th>2</th>\n",
       "      <td>3</td>\n",
       "      <td>Almaden</td>\n",
       "      <td>10/19/2018 08:40 am</td>\n",
       "      <td>NaN</td>\n",
       "      <td>NaN</td>\n",
       "      <td>NaN</td>\n",
       "      <td>8</td>\n",
       "      <td>It gives insights from a leading corporation's...</td>\n",
       "    </tr>\n",
       "    <tr>\n",
       "      <th>3</th>\n",
       "      <td>4</td>\n",
       "      <td>Almaden</td>\n",
       "      <td>10/19/2018 10:59 am</td>\n",
       "      <td>NaN</td>\n",
       "      <td>NaN</td>\n",
       "      <td>NaN</td>\n",
       "      <td>10</td>\n",
       "      <td>Lecturer is experienced. They shared a lot of ...</td>\n",
       "    </tr>\n",
       "    <tr>\n",
       "      <th>4</th>\n",
       "      <td>5</td>\n",
       "      <td>Almaden</td>\n",
       "      <td>05/06/20 12:58</td>\n",
       "      <td>NaN</td>\n",
       "      <td>NaN</td>\n",
       "      <td>NaN</td>\n",
       "      <td>10</td>\n",
       "      <td>NIL</td>\n",
       "    </tr>\n",
       "    <tr>\n",
       "      <th>...</th>\n",
       "      <td>...</td>\n",
       "      <td>...</td>\n",
       "      <td>...</td>\n",
       "      <td>...</td>\n",
       "      <td>...</td>\n",
       "      <td>...</td>\n",
       "      <td>...</td>\n",
       "      <td>...</td>\n",
       "    </tr>\n",
       "    <tr>\n",
       "      <th>1313</th>\n",
       "      <td>1314</td>\n",
       "      <td>Zurich</td>\n",
       "      <td>09/18/2018 11:47 am</td>\n",
       "      <td>NaN</td>\n",
       "      <td>NaN</td>\n",
       "      <td>NaN</td>\n",
       "      <td>10</td>\n",
       "      <td>good insight</td>\n",
       "    </tr>\n",
       "    <tr>\n",
       "      <th>1314</th>\n",
       "      <td>1315</td>\n",
       "      <td>Zurich</td>\n",
       "      <td>11/14/2018 08:53 am</td>\n",
       "      <td>NaN</td>\n",
       "      <td>NaN</td>\n",
       "      <td>NaN</td>\n",
       "      <td>10</td>\n",
       "      <td>Actual insights into research. Inspiring!</td>\n",
       "    </tr>\n",
       "    <tr>\n",
       "      <th>1315</th>\n",
       "      <td>1316</td>\n",
       "      <td>Zurich</td>\n",
       "      <td>04/01/19 14:47</td>\n",
       "      <td>NaN</td>\n",
       "      <td>NaN</td>\n",
       "      <td>NaN</td>\n",
       "      <td>9</td>\n",
       "      <td>Valuable insights about what IBM is doing and ...</td>\n",
       "    </tr>\n",
       "    <tr>\n",
       "      <th>1316</th>\n",
       "      <td>1317</td>\n",
       "      <td>Zurich</td>\n",
       "      <td>11/06/19 10:02</td>\n",
       "      <td>NaN</td>\n",
       "      <td>NaN</td>\n",
       "      <td>NaN</td>\n",
       "      <td>9</td>\n",
       "      <td>This is great and with very smart people. A lo...</td>\n",
       "    </tr>\n",
       "    <tr>\n",
       "      <th>1317</th>\n",
       "      <td>1318</td>\n",
       "      <td>Zurich</td>\n",
       "      <td>01/17/2019 09:18 am</td>\n",
       "      <td>NaN</td>\n",
       "      <td>NaN</td>\n",
       "      <td>NaN</td>\n",
       "      <td>9</td>\n",
       "      <td>very good overview about what's next. Thanks v...</td>\n",
       "    </tr>\n",
       "  </tbody>\n",
       "</table>\n",
       "<p>1318 rows × 8 columns</p>\n",
       "</div>"
      ],
      "text/plain": [
       "        id thinklab                 date country city region  likelyhood  \\\n",
       "0        1  Almaden  10/22/2018 04:04 pm     NaN  NaN    NaN          10   \n",
       "1        2  Almaden  10/19/2018 08:53 pm     NaN  NaN    NaN          10   \n",
       "2        3  Almaden  10/19/2018 08:40 am     NaN  NaN    NaN           8   \n",
       "3        4  Almaden  10/19/2018 10:59 am     NaN  NaN    NaN          10   \n",
       "4        5  Almaden       05/06/20 12:58     NaN  NaN    NaN          10   \n",
       "...    ...      ...                  ...     ...  ...    ...         ...   \n",
       "1313  1314   Zurich  09/18/2018 11:47 am     NaN  NaN    NaN          10   \n",
       "1314  1315   Zurich  11/14/2018 08:53 am     NaN  NaN    NaN          10   \n",
       "1315  1316   Zurich       04/01/19 14:47     NaN  NaN    NaN           9   \n",
       "1316  1317   Zurich       11/06/19 10:02     NaN  NaN    NaN           9   \n",
       "1317  1318   Zurich  01/17/2019 09:18 am     NaN  NaN    NaN           9   \n",
       "\n",
       "                                                   text  \n",
       "0     Very interesting and insightful experience. Fa...  \n",
       "1     The tour was absolutely fascinating, I think t...  \n",
       "2     It gives insights from a leading corporation's...  \n",
       "3     Lecturer is experienced. They shared a lot of ...  \n",
       "4                                                   NIL  \n",
       "...                                                 ...  \n",
       "1313                                       good insight  \n",
       "1314          Actual insights into research. Inspiring!  \n",
       "1315  Valuable insights about what IBM is doing and ...  \n",
       "1316  This is great and with very smart people. A lo...  \n",
       "1317  very good overview about what's next. Thanks v...  \n",
       "\n",
       "[1318 rows x 8 columns]"
      ]
     },
     "execution_count": 18,
     "metadata": {},
     "output_type": "execute_result"
    }
   ],
   "source": [
    "df"
   ]
  },
  {
   "cell_type": "code",
   "execution_count": 19,
   "id": "a5e5b115-d6ea-47c7-8326-25447085ed32",
   "metadata": {},
   "outputs": [],
   "source": [
    "x = df[['text']]"
   ]
  },
  {
   "cell_type": "code",
   "execution_count": 20,
   "id": "9384d366-1e00-4872-9d2f-867298a1c9a7",
   "metadata": {},
   "outputs": [
    {
     "data": {
      "text/html": [
       "<div>\n",
       "<style scoped>\n",
       "    .dataframe tbody tr th:only-of-type {\n",
       "        vertical-align: middle;\n",
       "    }\n",
       "\n",
       "    .dataframe tbody tr th {\n",
       "        vertical-align: top;\n",
       "    }\n",
       "\n",
       "    .dataframe thead th {\n",
       "        text-align: right;\n",
       "    }\n",
       "</style>\n",
       "<table border=\"1\" class=\"dataframe\">\n",
       "  <thead>\n",
       "    <tr style=\"text-align: right;\">\n",
       "      <th></th>\n",
       "      <th>text</th>\n",
       "    </tr>\n",
       "  </thead>\n",
       "  <tbody>\n",
       "    <tr>\n",
       "      <th>0</th>\n",
       "      <td>Very interesting and insightful experience. Fa...</td>\n",
       "    </tr>\n",
       "    <tr>\n",
       "      <th>1</th>\n",
       "      <td>The tour was absolutely fascinating, I think t...</td>\n",
       "    </tr>\n",
       "    <tr>\n",
       "      <th>2</th>\n",
       "      <td>It gives insights from a leading corporation's...</td>\n",
       "    </tr>\n",
       "    <tr>\n",
       "      <th>3</th>\n",
       "      <td>Lecturer is experienced. They shared a lot of ...</td>\n",
       "    </tr>\n",
       "    <tr>\n",
       "      <th>4</th>\n",
       "      <td>NIL</td>\n",
       "    </tr>\n",
       "    <tr>\n",
       "      <th>...</th>\n",
       "      <td>...</td>\n",
       "    </tr>\n",
       "    <tr>\n",
       "      <th>1313</th>\n",
       "      <td>good insight</td>\n",
       "    </tr>\n",
       "    <tr>\n",
       "      <th>1314</th>\n",
       "      <td>Actual insights into research. Inspiring!</td>\n",
       "    </tr>\n",
       "    <tr>\n",
       "      <th>1315</th>\n",
       "      <td>Valuable insights about what IBM is doing and ...</td>\n",
       "    </tr>\n",
       "    <tr>\n",
       "      <th>1316</th>\n",
       "      <td>This is great and with very smart people. A lo...</td>\n",
       "    </tr>\n",
       "    <tr>\n",
       "      <th>1317</th>\n",
       "      <td>very good overview about what's next. Thanks v...</td>\n",
       "    </tr>\n",
       "  </tbody>\n",
       "</table>\n",
       "<p>1318 rows × 1 columns</p>\n",
       "</div>"
      ],
      "text/plain": [
       "                                                   text\n",
       "0     Very interesting and insightful experience. Fa...\n",
       "1     The tour was absolutely fascinating, I think t...\n",
       "2     It gives insights from a leading corporation's...\n",
       "3     Lecturer is experienced. They shared a lot of ...\n",
       "4                                                   NIL\n",
       "...                                                 ...\n",
       "1313                                       good insight\n",
       "1314          Actual insights into research. Inspiring!\n",
       "1315  Valuable insights about what IBM is doing and ...\n",
       "1316  This is great and with very smart people. A lo...\n",
       "1317  very good overview about what's next. Thanks v...\n",
       "\n",
       "[1318 rows x 1 columns]"
      ]
     },
     "execution_count": 20,
     "metadata": {},
     "output_type": "execute_result"
    }
   ],
   "source": [
    "x"
   ]
  },
  {
   "cell_type": "code",
   "execution_count": 23,
   "id": "b3043370-d9c3-4aef-a78b-9469bf8cdad9",
   "metadata": {},
   "outputs": [],
   "source": [
    "z = df.iloc[1,1] # search using 2 integers"
   ]
  },
  {
   "cell_type": "code",
   "execution_count": 24,
   "id": "8bde3877-51c4-433b-aa57-b3f0289c9ff3",
   "metadata": {},
   "outputs": [
    {
     "data": {
      "text/plain": [
       "'Almaden'"
      ]
     },
     "execution_count": 24,
     "metadata": {},
     "output_type": "execute_result"
    }
   ],
   "source": [
    "z"
   ]
  },
  {
   "cell_type": "code",
   "execution_count": 27,
   "id": "3e308e8d-9f11-471b-b8de-5b00e033d1d7",
   "metadata": {},
   "outputs": [],
   "source": [
    "y = df.loc[1, 'likelyhood'] # search using 'int' and 'str'"
   ]
  },
  {
   "cell_type": "code",
   "execution_count": 28,
   "id": "810f41f2-38e2-4c28-a709-308f4cb8c421",
   "metadata": {},
   "outputs": [
    {
     "data": {
      "text/plain": [
       "10"
      ]
     },
     "execution_count": 28,
     "metadata": {},
     "output_type": "execute_result"
    }
   ],
   "source": [
    "y"
   ]
  },
  {
   "cell_type": "code",
   "execution_count": 29,
   "id": "2dbc69f6-3cde-417f-89a9-2d80973cad50",
   "metadata": {},
   "outputs": [],
   "source": [
    "w = df.iloc[0:2,0:3]"
   ]
  },
  {
   "cell_type": "code",
   "execution_count": 30,
   "id": "cc9bd74c-e599-48bf-ba17-fdb2240befef",
   "metadata": {},
   "outputs": [
    {
     "data": {
      "text/html": [
       "<div>\n",
       "<style scoped>\n",
       "    .dataframe tbody tr th:only-of-type {\n",
       "        vertical-align: middle;\n",
       "    }\n",
       "\n",
       "    .dataframe tbody tr th {\n",
       "        vertical-align: top;\n",
       "    }\n",
       "\n",
       "    .dataframe thead th {\n",
       "        text-align: right;\n",
       "    }\n",
       "</style>\n",
       "<table border=\"1\" class=\"dataframe\">\n",
       "  <thead>\n",
       "    <tr style=\"text-align: right;\">\n",
       "      <th></th>\n",
       "      <th>id</th>\n",
       "      <th>thinklab</th>\n",
       "      <th>date</th>\n",
       "    </tr>\n",
       "  </thead>\n",
       "  <tbody>\n",
       "    <tr>\n",
       "      <th>0</th>\n",
       "      <td>1</td>\n",
       "      <td>Almaden</td>\n",
       "      <td>10/22/2018 04:04 pm</td>\n",
       "    </tr>\n",
       "    <tr>\n",
       "      <th>1</th>\n",
       "      <td>2</td>\n",
       "      <td>Almaden</td>\n",
       "      <td>10/19/2018 08:53 pm</td>\n",
       "    </tr>\n",
       "  </tbody>\n",
       "</table>\n",
       "</div>"
      ],
      "text/plain": [
       "   id thinklab                 date\n",
       "0   1  Almaden  10/22/2018 04:04 pm\n",
       "1   2  Almaden  10/19/2018 08:53 pm"
      ]
     },
     "execution_count": 30,
     "metadata": {},
     "output_type": "execute_result"
    }
   ],
   "source": [
    "w"
   ]
  },
  {
   "cell_type": "code",
   "execution_count": 32,
   "id": "3d90322c-de22-4db0-95a0-37b226fda31c",
   "metadata": {},
   "outputs": [
    {
     "data": {
      "text/plain": [
       "array(['Almaden', 'Bangalore', 'Beijing', 'Dublin', 'Haifa', 'Sao Paulo',\n",
       "       'Tokyo', 'Yorktown', 'Zurich'], dtype=object)"
      ]
     },
     "execution_count": 32,
     "metadata": {},
     "output_type": "execute_result"
    }
   ],
   "source": [
    "df['thinklab'].unique()"
   ]
  },
  {
   "cell_type": "code",
   "execution_count": 35,
   "id": "ae92b22a-0c29-45cc-a9e9-dfdddd6335ef",
   "metadata": {},
   "outputs": [],
   "source": [
    "bu=pd.DataFrame({'a':[1,2,1],'b':[1,1,1]})"
   ]
  },
  {
   "cell_type": "code",
   "execution_count": 36,
   "id": "1c29d8c9-cdf3-4c00-b15b-996fd417e0cb",
   "metadata": {},
   "outputs": [
    {
     "data": {
      "text/plain": [
       "0     True\n",
       "1    False\n",
       "2     True\n",
       "Name: a, dtype: bool"
      ]
     },
     "execution_count": 36,
     "metadata": {},
     "output_type": "execute_result"
    }
   ],
   "source": [
    "bu['a']==1"
   ]
  },
  {
   "cell_type": "code",
   "execution_count": null,
   "id": "20daffda-7fb6-42c7-aabd-0cf2761908b2",
   "metadata": {},
   "outputs": [],
   "source": []
  }
 ],
 "metadata": {
  "kernelspec": {
   "display_name": "Python 3 (ipykernel)",
   "language": "python",
   "name": "python3"
  },
  "language_info": {
   "codemirror_mode": {
    "name": "ipython",
    "version": 3
   },
   "file_extension": ".py",
   "mimetype": "text/x-python",
   "name": "python",
   "nbconvert_exporter": "python",
   "pygments_lexer": "ipython3",
   "version": "3.9.7"
  }
 },
 "nbformat": 4,
 "nbformat_minor": 5
}
