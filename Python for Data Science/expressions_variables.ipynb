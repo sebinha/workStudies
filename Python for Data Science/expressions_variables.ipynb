{
 "cells": [
  {
   "cell_type": "code",
   "execution_count": 1,
   "id": "d1680cdd-23e1-4ce6-a360-1f001c63f8d3",
   "metadata": {},
   "outputs": [
    {
     "data": {
      "text/plain": [
       "0"
      ]
     },
     "execution_count": 1,
     "metadata": {},
     "output_type": "execute_result"
    }
   ],
   "source": [
    "50-50"
   ]
  },
  {
   "cell_type": "code",
   "execution_count": 2,
   "id": "21af7da6-1236-40f5-a9d8-d7dd98f92737",
   "metadata": {},
   "outputs": [
    {
     "data": {
      "text/plain": [
       "100"
      ]
     },
     "execution_count": 2,
     "metadata": {},
     "output_type": "execute_result"
    }
   ],
   "source": [
    "50*2"
   ]
  },
  {
   "cell_type": "code",
   "execution_count": 3,
   "id": "d1900729-1fb2-42da-8a06-5cd3c5ecbd30",
   "metadata": {},
   "outputs": [
    {
     "data": {
      "text/plain": [
       "50.0"
      ]
     },
     "execution_count": 3,
     "metadata": {},
     "output_type": "execute_result"
    }
   ],
   "source": [
    "100/2"
   ]
  },
  {
   "cell_type": "code",
   "execution_count": 4,
   "id": "9c28cc69-d27a-4fd5-b0ba-9e3b41d77a8a",
   "metadata": {},
   "outputs": [
    {
     "data": {
      "text/plain": [
       "6.142857142857143"
      ]
     },
     "execution_count": 4,
     "metadata": {},
     "output_type": "execute_result"
    }
   ],
   "source": [
    "43/7"
   ]
  },
  {
   "cell_type": "code",
   "execution_count": 5,
   "id": "fac0d64c-c661-4dc4-8a9d-b0ba5f5ac69f",
   "metadata": {},
   "outputs": [
    {
     "data": {
      "text/plain": [
       "4"
      ]
     },
     "execution_count": 5,
     "metadata": {},
     "output_type": "execute_result"
    }
   ],
   "source": [
    "25//6"
   ]
  },
  {
   "cell_type": "code",
   "execution_count": 7,
   "id": "7b33f21a-24fd-484f-bbc0-8d576aa51872",
   "metadata": {},
   "outputs": [
    {
     "data": {
      "text/plain": [
       "4.166666666666667"
      ]
     },
     "execution_count": 7,
     "metadata": {},
     "output_type": "execute_result"
    }
   ],
   "source": [
    "25/6"
   ]
  },
  {
   "cell_type": "code",
   "execution_count": 8,
   "id": "8175cda8-32b2-4e92-8363-0580e596b4ea",
   "metadata": {},
   "outputs": [],
   "source": [
    "x=60+35+20"
   ]
  },
  {
   "cell_type": "code",
   "execution_count": 9,
   "id": "3875e36f-e7a1-41d5-a5b5-9c08af965d75",
   "metadata": {},
   "outputs": [],
   "source": [
    "y=x/3"
   ]
  },
  {
   "cell_type": "code",
   "execution_count": 10,
   "id": "4f43440d-5ed5-4397-a15a-bda3120dfe93",
   "metadata": {},
   "outputs": [
    {
     "name": "stdout",
     "output_type": "stream",
     "text": [
      "115 38.333333333333336\n"
     ]
    }
   ],
   "source": [
    "print(x,y)"
   ]
  }
 ],
 "metadata": {
  "kernelspec": {
   "display_name": "Python 3 (ipykernel)",
   "language": "python",
   "name": "python3"
  },
  "language_info": {
   "codemirror_mode": {
    "name": "ipython",
    "version": 3
   },
   "file_extension": ".py",
   "mimetype": "text/x-python",
   "name": "python",
   "nbconvert_exporter": "python",
   "pygments_lexer": "ipython3",
   "version": "3.9.7"
  }
 },
 "nbformat": 4,
 "nbformat_minor": 5
}
